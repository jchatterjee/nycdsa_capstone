{
 "cells": [
  {
   "cell_type": "markdown",
   "id": "b473631a",
   "metadata": {},
   "source": [
    "### CitiBike vs Other Travel Mode Optimization"
   ]
  },
  {
   "cell_type": "markdown",
   "id": "e0a07db6",
   "metadata": {},
   "source": [
    "Import all necessary packages."
   ]
  },
  {
   "cell_type": "code",
   "execution_count": null,
   "id": "432ed6c8",
   "metadata": {},
   "outputs": [],
   "source": [
    "# Dataframes and numerical\n",
    "import pandas as pd\n",
    "import numpy as np\n",
    "\n",
    "# Increase pandas default display \n",
    "pd.options.display.max_rows = 250\n",
    "pd.options.display.max_columns = 250\n",
    "\n",
    "# Suppress scientific notation of data in pandas\n",
    "pd.set_option('display.float_format', '{:.2f}'.format)\n",
    "\n",
    "# Graphing\n",
    "import matplotlib as mpl\n",
    "import matplotlib.pyplot as plt\n",
    "import matplotlib.patches as mpatches\n",
    "from matplotlib.ticker import FormatStrFormatter, StrMethodFormatter\n",
    "from matplotlib.legend import Legend\n",
    "from matplotlib.colors import TwoSlopeNorm\n",
    "%matplotlib inline\n",
    "import matplotlib.gridspec as gridspec\n",
    "import seaborn as sns\n",
    "sns.set_style('darkgrid')\n",
    "plt.style.use('fivethirtyeight')\n",
    "\n",
    "# Suppress warnings\n",
    "import warnings\n",
    "warnings.filterwarnings('ignore')"
   ]
  },
  {
   "cell_type": "markdown",
   "id": "278f2653",
   "metadata": {},
   "source": [
    "Write function for predicting travel times and costs."
   ]
  },
  {
   "cell_type": "code",
   "execution_count": 66,
   "id": "1b929fa7",
   "metadata": {},
   "outputs": [],
   "source": [
    "# Taking distance in miles, number of months, number of weeks, number of days,\n",
    "# number of rides, number of minutes, and number of cards to output time in\n",
    "# minutes and cost in dollars\n",
    "def CB_Mode(dist, mons, week, days, ride, card):\n",
    "    # Walking Duration in Minutes\n",
    "    walking_mins = dist/(3.5/60)\n",
    "    # CitiBike Ride Duration in Minutes (classic) [speed = 8.75 mph]\n",
    "    CB_Mode_mins_C = dist/(8.75/60)\n",
    "    # CitiBike Ride Duration in Minutes (electric) [speed = 10.5 mph]\n",
    "    CB_Mode_mins_E = dist/(10.5/60)\n",
    "    # CitiBike Single Ride (classic) Cost in Dollars\n",
    "    CB_Mode_cost_1A = (3.50 \\\n",
    "    + (0.18*(CB_Mode_mins_C - 30) if CB_Mode_mins_C > 30 else 0))*ride\n",
    "    # CitiBike Single Ride (electric) Cost in Dollars\n",
    "    CB_Mode_cost_1B = (3.50 + 0.18*CB_Mode_mins_E \\\n",
    "    + (0.18*(CB_Mode_mins_E - 30) if CB_Mode_mins_E > 30 else 0))*ride\n",
    "    # CitiBike Day Pass (classic) Cost in Dollars\n",
    "    CB_Mode_cost_2A = 15*days \\\n",
    "    + ((0.27*(CB_Mode_mins_C - 30) if CB_Mode_mins_C > 30 else 0))*ride\n",
    "    # CitiBike Day Pass (electric) Cost in Dollars\n",
    "    CB_Mode_cost_2B = 15*days + (0.18*CB_Mode_mins_E \\\n",
    "    + (0.27*(CB_Mode_mins_E - 30) if CB_Mode_mins_E > 30 else 0))*ride\n",
    "    # CitiBike Annual Membership (classic) Cost in Dollars\n",
    "    CB_Mode_cost_3A = 15.42*mons \\\n",
    "    + ((0.15*(CB_Mode_mins_C - 45) if CB_Mode_mins_C > 45 else 0))*ride\n",
    "    # CitiBike Annual Membership (electric) Cost in Dollars\n",
    "    CB_Mode_cost_3B = 15.42*mons + (0.15*CB_Mode_mins_E \\\n",
    "    + (0.15*(CB_Mode_mins_E - 45) if CB_Mode_mins_E > 45 else 0))*ride\n",
    "    # MetroCard Single Ride Cost in Dollars\n",
    "    MC_Mode_cost_4 = 1*card + 2.75*ride\n",
    "    # MetroCard 7-Day Unlimited Pass Cost in Dollars\n",
    "    MC_Mode_cost_5 = 33*week + 1*card\n",
    "    # MetroCard 30-Day Unlimited Pass Cost in Dollars\n",
    "    MC_Mode_cost_6 = 127*mons + 1*card\n",
    "    # Output string\n",
    "    print(f\"Total Travel Distance:      {dist:,.2f} miles\")\n",
    "    print(f\"Total Number of Months:     {mons}\")\n",
    "    print(f\"Total Number of Weeks:      {week}\")\n",
    "    print(f\"Total Number of Days:       {days}\")\n",
    "    print(f\"Total Number of Rides:      {ride}\")\n",
    "    print(f\"Total Number of MetroCards: {card}\")\n",
    "    print(f\"Walking Travel Time:             {walking_mins:,.2f} minutes\")\n",
    "    print(f\"CitiBike Travel Time (classic):  {CB_Mode_mins_C:,.2f} minutes\")\n",
    "    print(f\"CitiBike Travel Time (electric): {CB_Mode_mins_E:,.2f} minutes\")\n",
    "    print(f\"CitiBike Single Ride Cost (classic):        ${CB_Mode_cost_1A:,.2f}\")\n",
    "    print(f\"CitiBike Single Ride Cost (electric):       ${CB_Mode_cost_1B:,.2f}\")\n",
    "    print(f\"CitiBike Day Pass Cost (classic):           ${CB_Mode_cost_2A:,.2f}\")\n",
    "    print(f\"CitiBike Day Pass Cost (electric):          ${CB_Mode_cost_2B:,.2f}\")\n",
    "    print(f\"CitiBike Annual Membership Cost (classic):  ${CB_Mode_cost_3A:,.2f}\")\n",
    "    print(f\"CitiBike Annual Membership Cost (electric): ${CB_Mode_cost_3B:,.2f}\")\n",
    "    print(f\"MetroCard Single Ride Cost:                 ${MC_Mode_cost_4:,.2f}\")\n",
    "    print(f\"MetroCard 7-Day Unlimited Pass Cost:        ${MC_Mode_cost_5:,.2f}\")\n",
    "    print(f\"MetroCard 30-Day Unlimited Pass Cost:       ${MC_Mode_cost_6:,.2f}\")"
   ]
  },
  {
   "cell_type": "code",
   "execution_count": 121,
   "id": "d5fd3109",
   "metadata": {
    "scrolled": true
   },
   "outputs": [
    {
     "name": "stdout",
     "output_type": "stream",
     "text": [
      "Total Travel Distance:      2.00 miles\n",
      "Total Number of Months:     1\n",
      "Total Number of Weeks:      4\n",
      "Total Number of Days:       30\n",
      "Total Number of Rides:      40\n",
      "Total Number of MetroCards: 1\n",
      "Walking Travel Time:             34.29 minutes\n",
      "CitiBike Travel Time (classic):  13.71 minutes\n",
      "CitiBike Travel Time (electric): 11.43 minutes\n",
      "CitiBike Single Ride Cost (classic):        $140.00\n",
      "CitiBike Single Ride Cost (electric):       $222.29\n",
      "CitiBike Day Pass Cost (classic):           $450.00\n",
      "CitiBike Day Pass Cost (electric):          $532.29\n",
      "CitiBike Annual Membership Cost (classic):  $15.42\n",
      "CitiBike Annual Membership Cost (electric): $83.99\n",
      "MetroCard Single Ride Cost:                 $111.00\n",
      "MetroCard 7-Day Unlimited Pass Cost:        $133.00\n",
      "MetroCard 30-Day Unlimited Pass Cost:       $128.00\n"
     ]
    }
   ],
   "source": [
    "CB_Mode(2,1,4,30,40,1)"
   ]
  }
 ],
 "metadata": {
  "kernelspec": {
   "display_name": "Python 3 (ipykernel)",
   "language": "python",
   "name": "python3"
  },
  "language_info": {
   "codemirror_mode": {
    "name": "ipython",
    "version": 3
   },
   "file_extension": ".py",
   "mimetype": "text/x-python",
   "name": "python",
   "nbconvert_exporter": "python",
   "pygments_lexer": "ipython3",
   "version": "3.9.7"
  }
 },
 "nbformat": 4,
 "nbformat_minor": 5
}
