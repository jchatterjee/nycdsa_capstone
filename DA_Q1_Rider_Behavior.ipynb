{
 "cells": [
  {
   "cell_type": "markdown",
   "id": "f15266f6",
   "metadata": {},
   "source": [
    "### DA Question 1: Rider Behavior Analysis"
   ]
  },
  {
   "cell_type": "markdown",
   "id": "59de6551",
   "metadata": {},
   "source": [
    "Import all necessary packages."
   ]
  },
  {
   "cell_type": "code",
   "execution_count": 12,
   "id": "de70e5a6",
   "metadata": {},
   "outputs": [],
   "source": [
    "# Apache parquet files (to save space)\n",
    "import pyarrow as pa\n",
    "import pyarrow.parquet as pq\n",
    "\n",
    "# Dataframes and numerical\n",
    "import pandas as pd\n",
    "import numpy as np\n",
    "\n",
    "# Increase pandas default display \n",
    "pd.options.display.max_rows = 250\n",
    "pd.options.display.max_columns = 250\n",
    "\n",
    "# Suppress scientific notation of data in pandas\n",
    "pd.set_option('display.float_format', '{:.2f}'.format)\n",
    "\n",
    "# Graphing\n",
    "import matplotlib.pyplot as plt\n",
    "%matplotlib inline\n",
    "import matplotlib.gridspec as gridspec\n",
    "import seaborn as sns\n",
    "sns.set_style('darkgrid')\n",
    "plt.style.use('fivethirtyeight')\n",
    "\n",
    "# Suppress warnings\n",
    "import warnings\n",
    "warnings.filterwarnings('ignore')"
   ]
  },
  {
   "cell_type": "markdown",
   "id": "c015a67a",
   "metadata": {},
   "source": [
    "Load **.parquet** file of all CitiBike rides from May 2021 through April 2022 into **pandas** dataframe."
   ]
  },
  {
   "cell_type": "code",
   "execution_count": 2,
   "id": "dd3b7113",
   "metadata": {},
   "outputs": [],
   "source": [
    "CB_Data = pq.read_table('data/202105-202204-citibike-tripdata.parquet').to_pandas()"
   ]
  },
  {
   "cell_type": "markdown",
   "id": "7bae9d5b",
   "metadata": {},
   "source": [
    "Understand the structure of the dataframe."
   ]
  },
  {
   "cell_type": "code",
   "execution_count": 3,
   "id": "e2ebd933",
   "metadata": {},
   "outputs": [
    {
     "data": {
      "text/html": [
       "<div>\n",
       "<style scoped>\n",
       "    .dataframe tbody tr th:only-of-type {\n",
       "        vertical-align: middle;\n",
       "    }\n",
       "\n",
       "    .dataframe tbody tr th {\n",
       "        vertical-align: top;\n",
       "    }\n",
       "\n",
       "    .dataframe thead th {\n",
       "        text-align: right;\n",
       "    }\n",
       "</style>\n",
       "<table border=\"1\" class=\"dataframe\">\n",
       "  <thead>\n",
       "    <tr style=\"text-align: right;\">\n",
       "      <th></th>\n",
       "      <th>member_casual</th>\n",
       "      <th>rideable_type</th>\n",
       "      <th>started_at</th>\n",
       "      <th>start_station_name</th>\n",
       "      <th>start_lat</th>\n",
       "      <th>start_lng</th>\n",
       "      <th>start_boro</th>\n",
       "      <th>start_hood</th>\n",
       "      <th>ended_at</th>\n",
       "      <th>end_station_name</th>\n",
       "      <th>end_lat</th>\n",
       "      <th>end_lng</th>\n",
       "      <th>end_boro</th>\n",
       "      <th>end_hood</th>\n",
       "      <th>year</th>\n",
       "      <th>month</th>\n",
       "      <th>week_of_year</th>\n",
       "      <th>day_of_week</th>\n",
       "      <th>hour_of_day</th>\n",
       "      <th>duration_min</th>\n",
       "      <th>distance_mi</th>\n",
       "      <th>speed_mph</th>\n",
       "    </tr>\n",
       "  </thead>\n",
       "  <tbody>\n",
       "    <tr>\n",
       "      <th>1</th>\n",
       "      <td>Member</td>\n",
       "      <td>Classic Bike</td>\n",
       "      <td>2021-05-13 12:48:08</td>\n",
       "      <td>Broadway &amp; W 25 St</td>\n",
       "      <td>40.742868</td>\n",
       "      <td>-73.989186</td>\n",
       "      <td>Manhattan</td>\n",
       "      <td>Flatiron District</td>\n",
       "      <td>2021-05-13 13:07:37</td>\n",
       "      <td>E 2 St &amp; Avenue B</td>\n",
       "      <td>40.722175</td>\n",
       "      <td>-73.983688</td>\n",
       "      <td>Manhattan</td>\n",
       "      <td>East Village</td>\n",
       "      <td>2021</td>\n",
       "      <td>5</td>\n",
       "      <td>19</td>\n",
       "      <td>3</td>\n",
       "      <td>12</td>\n",
       "      <td>19.483333</td>\n",
       "      <td>1.807254</td>\n",
       "      <td>5.565537</td>\n",
       "    </tr>\n",
       "    <tr>\n",
       "      <th>2</th>\n",
       "      <td>Member</td>\n",
       "      <td>Classic Bike</td>\n",
       "      <td>2021-05-16 08:30:13</td>\n",
       "      <td>46 Ave &amp; 5 St</td>\n",
       "      <td>40.747310</td>\n",
       "      <td>-73.954510</td>\n",
       "      <td>Queens</td>\n",
       "      <td>Hunters Point</td>\n",
       "      <td>2021-05-16 08:45:47</td>\n",
       "      <td>34th Ave &amp; Vernon Blvd</td>\n",
       "      <td>40.765354</td>\n",
       "      <td>-73.939863</td>\n",
       "      <td>Queens</td>\n",
       "      <td>Astoria</td>\n",
       "      <td>2021</td>\n",
       "      <td>5</td>\n",
       "      <td>19</td>\n",
       "      <td>6</td>\n",
       "      <td>8</td>\n",
       "      <td>15.566667</td>\n",
       "      <td>2.255646</td>\n",
       "      <td>8.694139</td>\n",
       "    </tr>\n",
       "    <tr>\n",
       "      <th>3</th>\n",
       "      <td>Member</td>\n",
       "      <td>Classic Bike</td>\n",
       "      <td>2021-05-01 08:38:14</td>\n",
       "      <td>46 Ave &amp; 5 St</td>\n",
       "      <td>40.747310</td>\n",
       "      <td>-73.954510</td>\n",
       "      <td>Queens</td>\n",
       "      <td>Hunters Point</td>\n",
       "      <td>2021-05-01 08:54:27</td>\n",
       "      <td>34th Ave &amp; Vernon Blvd</td>\n",
       "      <td>40.765354</td>\n",
       "      <td>-73.939863</td>\n",
       "      <td>Queens</td>\n",
       "      <td>Astoria</td>\n",
       "      <td>2021</td>\n",
       "      <td>5</td>\n",
       "      <td>17</td>\n",
       "      <td>5</td>\n",
       "      <td>8</td>\n",
       "      <td>16.216667</td>\n",
       "      <td>2.255646</td>\n",
       "      <td>8.345659</td>\n",
       "    </tr>\n",
       "    <tr>\n",
       "      <th>4</th>\n",
       "      <td>Member</td>\n",
       "      <td>Classic Bike</td>\n",
       "      <td>2021-05-09 08:12:31</td>\n",
       "      <td>46 Ave &amp; 5 St</td>\n",
       "      <td>40.747310</td>\n",
       "      <td>-73.954510</td>\n",
       "      <td>Queens</td>\n",
       "      <td>Hunters Point</td>\n",
       "      <td>2021-05-09 08:27:05</td>\n",
       "      <td>34th Ave &amp; Vernon Blvd</td>\n",
       "      <td>40.765354</td>\n",
       "      <td>-73.939863</td>\n",
       "      <td>Queens</td>\n",
       "      <td>Astoria</td>\n",
       "      <td>2021</td>\n",
       "      <td>5</td>\n",
       "      <td>18</td>\n",
       "      <td>6</td>\n",
       "      <td>8</td>\n",
       "      <td>14.566667</td>\n",
       "      <td>2.255646</td>\n",
       "      <td>9.290991</td>\n",
       "    </tr>\n",
       "    <tr>\n",
       "      <th>5</th>\n",
       "      <td>Member</td>\n",
       "      <td>Classic Bike</td>\n",
       "      <td>2021-05-27 07:52:27</td>\n",
       "      <td>E 123 St &amp; Lexington Ave</td>\n",
       "      <td>40.802926</td>\n",
       "      <td>-73.937900</td>\n",
       "      <td>Manhattan</td>\n",
       "      <td>East Harlem</td>\n",
       "      <td>2021-05-27 08:09:01</td>\n",
       "      <td>1 Ave &amp; E 78 St</td>\n",
       "      <td>40.771404</td>\n",
       "      <td>-73.953516</td>\n",
       "      <td>Manhattan</td>\n",
       "      <td>Upper East Side</td>\n",
       "      <td>2021</td>\n",
       "      <td>5</td>\n",
       "      <td>21</td>\n",
       "      <td>3</td>\n",
       "      <td>7</td>\n",
       "      <td>16.566667</td>\n",
       "      <td>3.252584</td>\n",
       "      <td>11.779982</td>\n",
       "    </tr>\n",
       "  </tbody>\n",
       "</table>\n",
       "</div>"
      ],
      "text/plain": [
       "  member_casual rideable_type          started_at        start_station_name  \\\n",
       "1        Member  Classic Bike 2021-05-13 12:48:08        Broadway & W 25 St   \n",
       "2        Member  Classic Bike 2021-05-16 08:30:13             46 Ave & 5 St   \n",
       "3        Member  Classic Bike 2021-05-01 08:38:14             46 Ave & 5 St   \n",
       "4        Member  Classic Bike 2021-05-09 08:12:31             46 Ave & 5 St   \n",
       "5        Member  Classic Bike 2021-05-27 07:52:27  E 123 St & Lexington Ave   \n",
       "\n",
       "   start_lat  start_lng start_boro         start_hood            ended_at  \\\n",
       "1  40.742868 -73.989186  Manhattan  Flatiron District 2021-05-13 13:07:37   \n",
       "2  40.747310 -73.954510     Queens      Hunters Point 2021-05-16 08:45:47   \n",
       "3  40.747310 -73.954510     Queens      Hunters Point 2021-05-01 08:54:27   \n",
       "4  40.747310 -73.954510     Queens      Hunters Point 2021-05-09 08:27:05   \n",
       "5  40.802926 -73.937900  Manhattan        East Harlem 2021-05-27 08:09:01   \n",
       "\n",
       "         end_station_name    end_lat    end_lng   end_boro         end_hood  \\\n",
       "1       E 2 St & Avenue B  40.722175 -73.983688  Manhattan     East Village   \n",
       "2  34th Ave & Vernon Blvd  40.765354 -73.939863     Queens          Astoria   \n",
       "3  34th Ave & Vernon Blvd  40.765354 -73.939863     Queens          Astoria   \n",
       "4  34th Ave & Vernon Blvd  40.765354 -73.939863     Queens          Astoria   \n",
       "5         1 Ave & E 78 St  40.771404 -73.953516  Manhattan  Upper East Side   \n",
       "\n",
       "   year  month  week_of_year  day_of_week  hour_of_day  duration_min  \\\n",
       "1  2021      5            19            3           12     19.483333   \n",
       "2  2021      5            19            6            8     15.566667   \n",
       "3  2021      5            17            5            8     16.216667   \n",
       "4  2021      5            18            6            8     14.566667   \n",
       "5  2021      5            21            3            7     16.566667   \n",
       "\n",
       "   distance_mi  speed_mph  \n",
       "1     1.807254   5.565537  \n",
       "2     2.255646   8.694139  \n",
       "3     2.255646   8.345659  \n",
       "4     2.255646   9.290991  \n",
       "5     3.252584  11.779982  "
      ]
     },
     "execution_count": 3,
     "metadata": {},
     "output_type": "execute_result"
    }
   ],
   "source": [
    "CB_Data.head()"
   ]
  },
  {
   "cell_type": "code",
   "execution_count": 5,
   "id": "a9839e49",
   "metadata": {},
   "outputs": [
    {
     "data": {
      "text/plain": [
       "(27143436, 22)"
      ]
     },
     "execution_count": 5,
     "metadata": {},
     "output_type": "execute_result"
    }
   ],
   "source": [
    "CB_Data.shape"
   ]
  },
  {
   "cell_type": "code",
   "execution_count": 6,
   "id": "8089c4c4",
   "metadata": {},
   "outputs": [
    {
     "name": "stdout",
     "output_type": "stream",
     "text": [
      "<class 'pandas.core.frame.DataFrame'>\n",
      "Int64Index: 27143436 entries, 1 to 28816547\n",
      "Data columns (total 22 columns):\n",
      " #   Column              Dtype         \n",
      "---  ------              -----         \n",
      " 0   member_casual       object        \n",
      " 1   rideable_type       object        \n",
      " 2   started_at          datetime64[ns]\n",
      " 3   start_station_name  object        \n",
      " 4   start_lat           float64       \n",
      " 5   start_lng           float64       \n",
      " 6   start_boro          object        \n",
      " 7   start_hood          object        \n",
      " 8   ended_at            datetime64[ns]\n",
      " 9   end_station_name    object        \n",
      " 10  end_lat             float64       \n",
      " 11  end_lng             float64       \n",
      " 12  end_boro            object        \n",
      " 13  end_hood            object        \n",
      " 14  year                int64         \n",
      " 15  month               int64         \n",
      " 16  week_of_year        int64         \n",
      " 17  day_of_week         int64         \n",
      " 18  hour_of_day         int64         \n",
      " 19  duration_min        float64       \n",
      " 20  distance_mi         float64       \n",
      " 21  speed_mph           float64       \n",
      "dtypes: datetime64[ns](2), float64(7), int64(5), object(8)\n",
      "memory usage: 4.7+ GB\n"
     ]
    }
   ],
   "source": [
    "CB_Data.info()"
   ]
  },
  {
   "cell_type": "code",
   "execution_count": 7,
   "id": "62ff793e",
   "metadata": {},
   "outputs": [
    {
     "data": {
      "text/plain": [
       "member_casual                 object\n",
       "rideable_type                 object\n",
       "started_at            datetime64[ns]\n",
       "start_station_name            object\n",
       "start_lat                    float64\n",
       "start_lng                    float64\n",
       "start_boro                    object\n",
       "start_hood                    object\n",
       "ended_at              datetime64[ns]\n",
       "end_station_name              object\n",
       "end_lat                      float64\n",
       "end_lng                      float64\n",
       "end_boro                      object\n",
       "end_hood                      object\n",
       "year                           int64\n",
       "month                          int64\n",
       "week_of_year                   int64\n",
       "day_of_week                    int64\n",
       "hour_of_day                    int64\n",
       "duration_min                 float64\n",
       "distance_mi                  float64\n",
       "speed_mph                    float64\n",
       "dtype: object"
      ]
     },
     "execution_count": 7,
     "metadata": {},
     "output_type": "execute_result"
    }
   ],
   "source": [
    "CB_Data.dtypes"
   ]
  },
  {
   "attachments": {},
   "cell_type": "markdown",
   "id": "da5bff74",
   "metadata": {},
   "source": [
    "**What are the purposes of the rides? Hypothesize based on common sense. Estimate the proportions of rides which are riders commuting for work.**"
   ]
  },
  {
   "cell_type": "markdown",
   "id": "5b86a0aa",
   "metadata": {},
   "source": [
    "Investigate which days of the week and which hours of the day the rides tend to be distributed. Create a dataframe which focuses on this information, taking into account whether the ride was casual or by a member as well as the neighborhoods that were traversed between."
   ]
  },
  {
   "cell_type": "code",
   "execution_count": 9,
   "id": "870985d9",
   "metadata": {},
   "outputs": [],
   "source": [
    "cols_ride_time = ['member_casual', 'start_hood', 'end_hood', 'day_of_week', 'hour_of_day']\n",
    "CB_Ride_Time = CB_Data[cols_ride_time]"
   ]
  },
  {
   "cell_type": "code",
   "execution_count": 10,
   "id": "1f554dc4",
   "metadata": {},
   "outputs": [
    {
     "data": {
      "text/html": [
       "<div>\n",
       "<style scoped>\n",
       "    .dataframe tbody tr th:only-of-type {\n",
       "        vertical-align: middle;\n",
       "    }\n",
       "\n",
       "    .dataframe tbody tr th {\n",
       "        vertical-align: top;\n",
       "    }\n",
       "\n",
       "    .dataframe thead th {\n",
       "        text-align: right;\n",
       "    }\n",
       "</style>\n",
       "<table border=\"1\" class=\"dataframe\">\n",
       "  <thead>\n",
       "    <tr style=\"text-align: right;\">\n",
       "      <th></th>\n",
       "      <th>member_casual</th>\n",
       "      <th>start_hood</th>\n",
       "      <th>end_hood</th>\n",
       "      <th>day_of_week</th>\n",
       "      <th>hour_of_day</th>\n",
       "    </tr>\n",
       "  </thead>\n",
       "  <tbody>\n",
       "    <tr>\n",
       "      <th>1</th>\n",
       "      <td>Member</td>\n",
       "      <td>Flatiron District</td>\n",
       "      <td>East Village</td>\n",
       "      <td>3</td>\n",
       "      <td>12</td>\n",
       "    </tr>\n",
       "    <tr>\n",
       "      <th>2</th>\n",
       "      <td>Member</td>\n",
       "      <td>Hunters Point</td>\n",
       "      <td>Astoria</td>\n",
       "      <td>6</td>\n",
       "      <td>8</td>\n",
       "    </tr>\n",
       "    <tr>\n",
       "      <th>3</th>\n",
       "      <td>Member</td>\n",
       "      <td>Hunters Point</td>\n",
       "      <td>Astoria</td>\n",
       "      <td>5</td>\n",
       "      <td>8</td>\n",
       "    </tr>\n",
       "    <tr>\n",
       "      <th>4</th>\n",
       "      <td>Member</td>\n",
       "      <td>Hunters Point</td>\n",
       "      <td>Astoria</td>\n",
       "      <td>6</td>\n",
       "      <td>8</td>\n",
       "    </tr>\n",
       "    <tr>\n",
       "      <th>5</th>\n",
       "      <td>Member</td>\n",
       "      <td>East Harlem</td>\n",
       "      <td>Upper East Side</td>\n",
       "      <td>3</td>\n",
       "      <td>7</td>\n",
       "    </tr>\n",
       "    <tr>\n",
       "      <th>...</th>\n",
       "      <td>...</td>\n",
       "      <td>...</td>\n",
       "      <td>...</td>\n",
       "      <td>...</td>\n",
       "      <td>...</td>\n",
       "    </tr>\n",
       "    <tr>\n",
       "      <th>28816543</th>\n",
       "      <td>Member</td>\n",
       "      <td>Lower East Side</td>\n",
       "      <td>Chelsea</td>\n",
       "      <td>4</td>\n",
       "      <td>13</td>\n",
       "    </tr>\n",
       "    <tr>\n",
       "      <th>28816544</th>\n",
       "      <td>Member</td>\n",
       "      <td>Hamilton Heights</td>\n",
       "      <td>Mott Haven</td>\n",
       "      <td>2</td>\n",
       "      <td>17</td>\n",
       "    </tr>\n",
       "    <tr>\n",
       "      <th>28816545</th>\n",
       "      <td>Member</td>\n",
       "      <td>Upper East Side</td>\n",
       "      <td>Upper East Side</td>\n",
       "      <td>1</td>\n",
       "      <td>15</td>\n",
       "    </tr>\n",
       "    <tr>\n",
       "      <th>28816546</th>\n",
       "      <td>Member</td>\n",
       "      <td>Midtown</td>\n",
       "      <td>Upper East Side</td>\n",
       "      <td>3</td>\n",
       "      <td>15</td>\n",
       "    </tr>\n",
       "    <tr>\n",
       "      <th>28816547</th>\n",
       "      <td>Member</td>\n",
       "      <td>Upper West Side</td>\n",
       "      <td>Upper East Side</td>\n",
       "      <td>0</td>\n",
       "      <td>19</td>\n",
       "    </tr>\n",
       "  </tbody>\n",
       "</table>\n",
       "<p>27143436 rows × 5 columns</p>\n",
       "</div>"
      ],
      "text/plain": [
       "         member_casual         start_hood         end_hood  day_of_week  \\\n",
       "1               Member  Flatiron District     East Village            3   \n",
       "2               Member      Hunters Point          Astoria            6   \n",
       "3               Member      Hunters Point          Astoria            5   \n",
       "4               Member      Hunters Point          Astoria            6   \n",
       "5               Member        East Harlem  Upper East Side            3   \n",
       "...                ...                ...              ...          ...   \n",
       "28816543        Member    Lower East Side          Chelsea            4   \n",
       "28816544        Member   Hamilton Heights       Mott Haven            2   \n",
       "28816545        Member    Upper East Side  Upper East Side            1   \n",
       "28816546        Member            Midtown  Upper East Side            3   \n",
       "28816547        Member    Upper West Side  Upper East Side            0   \n",
       "\n",
       "          hour_of_day  \n",
       "1                  12  \n",
       "2                   8  \n",
       "3                   8  \n",
       "4                   8  \n",
       "5                   7  \n",
       "...               ...  \n",
       "28816543           13  \n",
       "28816544           17  \n",
       "28816545           15  \n",
       "28816546           15  \n",
       "28816547           19  \n",
       "\n",
       "[27143436 rows x 5 columns]"
      ]
     },
     "execution_count": 10,
     "metadata": {},
     "output_type": "execute_result"
    }
   ],
   "source": [
    "CB_Ride_Time"
   ]
  },
  {
   "cell_type": "code",
   "execution_count": 13,
   "id": "fb237ce2",
   "metadata": {},
   "outputs": [
    {
     "data": {
      "text/html": [
       "<div>\n",
       "<style scoped>\n",
       "    .dataframe tbody tr th:only-of-type {\n",
       "        vertical-align: middle;\n",
       "    }\n",
       "\n",
       "    .dataframe tbody tr th {\n",
       "        vertical-align: top;\n",
       "    }\n",
       "\n",
       "    .dataframe thead th {\n",
       "        text-align: right;\n",
       "    }\n",
       "</style>\n",
       "<table border=\"1\" class=\"dataframe\">\n",
       "  <thead>\n",
       "    <tr style=\"text-align: right;\">\n",
       "      <th></th>\n",
       "      <th>day_of_week</th>\n",
       "      <th>hour_of_day</th>\n",
       "    </tr>\n",
       "  </thead>\n",
       "  <tbody>\n",
       "    <tr>\n",
       "      <th>count</th>\n",
       "      <td>27143436.00</td>\n",
       "      <td>27143436.00</td>\n",
       "    </tr>\n",
       "    <tr>\n",
       "      <th>mean</th>\n",
       "      <td>2.97</td>\n",
       "      <td>14.04</td>\n",
       "    </tr>\n",
       "    <tr>\n",
       "      <th>std</th>\n",
       "      <td>1.95</td>\n",
       "      <td>5.02</td>\n",
       "    </tr>\n",
       "    <tr>\n",
       "      <th>min</th>\n",
       "      <td>0.00</td>\n",
       "      <td>0.00</td>\n",
       "    </tr>\n",
       "    <tr>\n",
       "      <th>25%</th>\n",
       "      <td>1.00</td>\n",
       "      <td>11.00</td>\n",
       "    </tr>\n",
       "    <tr>\n",
       "      <th>50%</th>\n",
       "      <td>3.00</td>\n",
       "      <td>15.00</td>\n",
       "    </tr>\n",
       "    <tr>\n",
       "      <th>75%</th>\n",
       "      <td>5.00</td>\n",
       "      <td>18.00</td>\n",
       "    </tr>\n",
       "    <tr>\n",
       "      <th>max</th>\n",
       "      <td>6.00</td>\n",
       "      <td>23.00</td>\n",
       "    </tr>\n",
       "  </tbody>\n",
       "</table>\n",
       "</div>"
      ],
      "text/plain": [
       "       day_of_week  hour_of_day\n",
       "count  27143436.00  27143436.00\n",
       "mean          2.97        14.04\n",
       "std           1.95         5.02\n",
       "min           0.00         0.00\n",
       "25%           1.00        11.00\n",
       "50%           3.00        15.00\n",
       "75%           5.00        18.00\n",
       "max           6.00        23.00"
      ]
     },
     "execution_count": 13,
     "metadata": {},
     "output_type": "execute_result"
    }
   ],
   "source": [
    "CB_Ride_Time.describe()"
   ]
  },
  {
   "cell_type": "markdown",
   "id": "a7e49bff",
   "metadata": {},
   "source": [
    "As in **pandas**, 0 represents Monday in the notation system for day of the week, the mean for rides throughout the week seems to be on Thursday with Tuesday and Saturday representing the lower and higher ends of the standard deviation respectively.\n",
    "\n",
    "Likewise, the average ride is taken at 3 pm, with 11 am and 6 pm being the lower and higher ends of the standard deviation."
   ]
  },
  {
   "cell_type": "code",
   "execution_count": 23,
   "id": "aeabaa31",
   "metadata": {},
   "outputs": [
    {
     "data": {
      "image/png": "[encoded data removed]",
      "text/plain": [
       "<Figure size 432x288 with 1 Axes>"
      ]
     },
     "metadata": {},
     "output_type": "display_data"
    }
   ],
   "source": [
    "plt.pie(CB_Ride_Time.member_casual.value_counts(), labels = CB_Ride_Time.member_casual.unique())\n",
    "plt.show()"
   ]
  },
  {
   "cell_type": "markdown",
   "id": "5e32fbfa",
   "metadata": {},
   "source": [
    "Since only a quarter of the rides are from casual riders, majority of the rides taken are most likely from residents rather than tourists of the city."
   ]
  },
  {
   "cell_type": "code",
   "execution_count": 34,
   "id": "cb2a407e",
   "metadata": {},
   "outputs": [
    {
     "data": {
      "image/png": "[encoded data removed]",
      "text/plain": [
       "<Figure size 432x288 with 1 Axes>"
      ]
     },
     "metadata": {},
     "output_type": "display_data"
    }
   ],
   "source": [
    "# Creating subplots\n",
    "ax = plt.subplots()\n",
    " \n",
    "# Plotting columns\n",
    "ax = sns.barplot(x = CB_Ride_Time.day_of_week, \n",
    "                 y = CB_Ride_Time[CB_Ride_Time.member_casual == 'Member'].value_counts(), \n",
    "                 color = 'b')\n",
    "ax = sns.barplot(x = CB_Ride_Time.day_of_week, \n",
    "                 y = CB_Ride_Time[CB_Ride_Time.member_casual == 'Casual'].value_counts(), \n",
    "                 color = 'r')\n",
    " \n",
    "# Renaming the axes\n",
    "ax.set(xlabel = 'Day of the Week', ylabel = 'Rides per Day')\n",
    " \n",
    "# Visualizing illustration\n",
    "plt.show()"
   ]
  },
  {
   "cell_type": "code",
   "execution_count": 41,
   "id": "1996a395",
   "metadata": {},
   "outputs": [
    {
     "data": {
      "image/png": "[encoded data removed]",
      "text/plain": [
       "<Figure size 576x432 with 1 Axes>"
      ]
     },
     "metadata": {},
     "output_type": "display_data"
    }
   ],
   "source": [
    "# Adjust the transparency with alpha parameter and specify a label for each variable.\n",
    "plt.figure(figsize=(8,6))\n",
    "plt.hist(CB_Ride_Time[CB_Ride_Time.member_casual == 'Member'].day_of_week, bins = 6, alpha = 0.5, label = 'Member',\n",
    "        align = 'mid')\n",
    "plt.hist(CB_Ride_Time[CB_Ride_Time.member_casual == 'Casual'].day_of_week, bins = 6, alpha = 0.5, label = 'Casual',\n",
    "        align = 'mid')\n",
    "\n",
    "# Customize plot\n",
    "plt.xlabel('Day of the Week', size=14)\n",
    "plt.ylabel('Rides per Day', size=14)\n",
    "plt.title('Member vs. Casual Rides Throughout the Week')\n",
    "plt.legend(loc='upper right')\n",
    "plt.tight_layout()\n",
    "plt.show()"
   ]
  },
  {
   "cell_type": "code",
   "execution_count": 26,
   "id": "e4105d8a",
   "metadata": {},
   "outputs": [
    {
     "data": {
      "text/plain": [
       "Text(0, 0.5, 'No. of Rides')"
      ]
     },
     "execution_count": 26,
     "metadata": {},
     "output_type": "execute_result"
    },
    {
     "data": {
      "image/png": "[encoded data removed]",
      "text/plain": [
       "<Figure size 432x288 with 1 Axes>"
      ]
     },
     "metadata": {},
     "output_type": "display_data"
    }
   ],
   "source": [
    "# Add histogram plot for member rides\n",
    "df = CB_Ride_Time[CB_Ride_Time.member_casual == 'Member']\n",
    "sns.distplot(df.day_of_week, kde=False, label='Member')\n",
    "\n",
    "# Add histogram plot for casual rides\n",
    "df = CB_Ride_Time[CB_Ride_Time.member_casual == 'Casual']\n",
    "sns.distplot(df.day_of_week, kde=False, label='Casual')\n",
    "\n",
    "# Plot formatting\n",
    "# ax.set_xticks([6,0,1,2,3,4,5])\n",
    "# ax.set_xticklabels(['Sunday','Monday','Tuesday','Wednesday','Thursday','Friday','Saturday'])\n",
    "plt.legend(prop={'size': 12})\n",
    "plt.title('Member vs. Casual Rides Throughout the Week')\n",
    "plt.xlabel('Day of the Week')\n",
    "plt.ylabel('No. of Rides')"
   ]
  },
  {
   "cell_type": "code",
   "execution_count": 15,
   "id": "eb168f42",
   "metadata": {},
   "outputs": [
    {
     "data": {
      "text/plain": [
       "17    2441216\n",
       "18    2356081\n",
       "16    2079930\n",
       "15    1913875\n",
       "14    1794752\n",
       "19    1786584\n",
       "13    1661369\n",
       "12    1561195\n",
       "8     1521125\n",
       "11    1367492\n",
       "9     1299735\n",
       "20    1221708\n",
       "10    1220390\n",
       "7     1030738\n",
       "21     888665\n",
       "22     735140\n",
       "23     567778\n",
       "6      521286\n",
       "0      395452\n",
       "1      246846\n",
       "5      177232\n",
       "2      163837\n",
       "3      103717\n",
       "4       87293\n",
       "Name: hour_of_day, dtype: int64"
      ]
     },
     "execution_count": 15,
     "metadata": {},
     "output_type": "execute_result"
    }
   ],
   "source": [
    "CB_Ride_Time.hour_of_day.value_counts()"
   ]
  }
 ],
 "metadata": {
  "kernelspec": {
   "display_name": "Python 3 (ipykernel)",
   "language": "python",
   "name": "python3"
  },
  "language_info": {
   "codemirror_mode": {
    "name": "ipython",
    "version": 3
   },
   "file_extension": ".py",
   "mimetype": "text/x-python",
   "name": "python",
   "nbconvert_exporter": "python",
   "pygments_lexer": "ipython3",
   "version": "3.9.7"
  }
 },
 "nbformat": 4,
 "nbformat_minor": 5
}
